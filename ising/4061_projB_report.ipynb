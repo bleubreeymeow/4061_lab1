{
 "cells": [
  {
   "cell_type": "code",
   "execution_count": 2,
   "metadata": {},
   "outputs": [],
   "source": [
    "from IPython.display import Image #for loading diagram images for the report"
   ]
  },
  {
   "cell_type": "markdown",
   "metadata": {},
   "source": [
    "# Monte Carlo Simulation of 2D Ising Model Using Wolff Algorithm Block Updating Scheme"
   ]
  },
  {
   "cell_type": "markdown",
   "metadata": {},
   "source": [
    "DAI Shi Yang Alris (1155179724)"
   ]
  },
  {
   "cell_type": "markdown",
   "metadata": {
    "vscode": {
     "languageId": "plaintext"
    }
   },
   "source": [
    "### Table of Contents\n",
    " 1. Abstract\n",
    " 2. Theoretical Background\n",
    " 3. Markov Chain Monte Carlo\n",
    " 4. Wolff Algorithm\n",
    " 5. Locating Critical Temperature\n",
    " 6. Simulation details\n",
    "\n",
    "    6.1 Finding Total Energy as a Function of Simulation Steps\n",
    "    \n",
    "    6.2 Finding Transition Temperature\n",
    " 7. Result and Analysis\n",
    " 8. References"
   ]
  },
  {
   "cell_type": "markdown",
   "metadata": {
    "vscode": {
     "languageId": "plaintext"
    }
   },
   "source": [
    "## 1. Abstract\n",
    "This report outlines a Monte Carlo Simulation of the 2D Ising Model via Wolff Algorithm. A 2D lattice structure of spins with random configuration is generated, and\n",
    "the total energy of a system at a particular temperature is found via the Wolff Algorithm block updating scheme. Furthermore, The possible Curie temperature has also been found via calculating the specific heat capacity of the system at a particular temperature."
   ]
  },
  {
   "cell_type": "markdown",
   "metadata": {},
   "source": [
    "## 2. Theoretical Background\n",
    "Ising model is a statistical mechanics model which is given by the Hamiltonian below:\n",
    " $$ H(\\sigma) = -\\sum \\limits_{i,j} J_{ij} \\sigma_{i} \\sigma_{j} - \\mu \\sum \\limits _{j} h_{j} \\sigma_{j}$$\n",
    "\n",
    "Where $i$ and $j$ are nearest neighbours, $J_{ij}$ are the interaction coefficient, $\\mu$ is the magnetic moment and $h_{j}$ is the external magnetic field which is interacting with the system. $\\sigma_{i}$ represents the spin value of neighbour $i$, where $\\sigma_{i}  \\in \\{-1 , 1\\}$.\n",
    "\n",
    "For a system in thermal equilibrum, the probability that a system is in a particular configuration $c$ with total energy $H_{c}(\\sigma)$ is:\n",
    "$$ P[c] = \\frac{e^{-\\beta H_{c}(\\sigma)}}{Z}$$\n",
    "where $Z = \\sum \\limits_{c} e^{-\\beta H_{c}(\\sigma)}$ is the partition function, and $\\beta = \\frac{1}{temperature}$.\n",
    "\n",
    "\n",
    "Traditionally, it is difficult to simulate phase transitions. The phase transition of interest is the transitions from a disordered system at a high temperature to a ordered system at low temperature, more commonly known as the magnetisation phase transition. To locate the critical temperature (Curie point), a common method would be to locate the point of discontinuity in a specific heat-beta graph. The Curie temperature is located at the discontinuity in the specific heat-beta graph, which is shown below."
   ]
  },
  {
   "cell_type": "code",
   "execution_count": 3,
   "metadata": {},
   "outputs": [
    {
     "data": {
      "text/html": [
       "<img src=\"../report_pngs/theo_phase_trans.png\" width=\"400\" height=\"300\"/>"
      ],
      "text/plain": [
       "<IPython.core.display.Image object>"
      ]
     },
     "execution_count": 3,
     "metadata": {},
     "output_type": "execute_result"
    }
   ],
   "source": [
    "\n",
    "Image(url=\"../report_pngs/theo_phase_trans.png\", width=400, height=300) "
   ]
  },
  {
   "cell_type": "markdown",
   "metadata": {},
   "source": [
    "## 3. Markov Chain Monte Carlo\n",
    "For a system with N sites, the number of configurations of spins would be $2^N$. It is impossible to calculate the partition function via simple random sampling Monte Carlo method. However, by setting up a Markov chain with a stationary distribution which resembles $e^{-\\beta H_{c}}$, one can numerically obtain the energy of a system at a particular temperature. This process is called Markov Chain Monte Carlo.\n",
    "\n",
    "Since Markov Chain is a memoryless process and we wish to reach to a stationary distribution, the detailed balance condition must be satisfied for the ising model. \n",
    "$$\\frac{W[c \\longrightarrow c']}{W[c' \\longrightarrow c]} = \\frac{P[c']}{P[c]}  = \\frac{e^{-\\beta H_{c'}}}{e^{-\\beta H_{c}}}$$"
   ]
  },
  {
   "cell_type": "markdown",
   "metadata": {},
   "source": [
    "## 4. Wolff Algorithm\n",
    "Any algorithm which satisfies the above condition will allow it to obtain the total energy of a 2D lattice structure from the ising model. The most commonly implemented algorithm is the Metropolis Algorithm. However, it is a local updating algorithm which flips spins one by one in a every markov chain monte carlo process, therefore requiring many markov steps see significant changes to the system's total energy, suggesting that the autocorrelation time of the Metropolis algorithm is large. \n",
    "\n",
    "Wolff Algorithm is a cluster algorithm which satisfies the detailed balance condition and also significantly decrease the autocorrelation time by selecting a random seed site and adds the indiviudal neighbours of the same spin into its cluster with a probability of $p = 1 - e^{-2\\beta J}$ until all neighbours are visited and flip the entire cluster. This is a single step within the markov chain, and it is trivial to understand that the total energy can be found with less simulation steps. \n",
    "\n",
    "The figure below shows a cluster which is formed by a single iteration of the Wolff Algorithm."
   ]
  },
  {
   "cell_type": "code",
   "execution_count": 62,
   "metadata": {},
   "outputs": [
    {
     "data": {
      "text/html": [
       "<img src=\"../report_pngs/wolff_cluster.png\" width=\"300\" height=\"300\"/>"
      ],
      "text/plain": [
       "<IPython.core.display.Image object>"
      ]
     },
     "execution_count": 62,
     "metadata": {},
     "output_type": "execute_result"
    }
   ],
   "source": [
    "Image(url=\"../report_pngs/wolff_cluster.png\", width=300, height=300) "
   ]
  },
  {
   "cell_type": "markdown",
   "metadata": {},
   "source": [
    "\n",
    "Let state c be the state before the cluster flips, and c' be the state after the cluster flips. The probability to transition from state c to c' is represented by $W[c \\longrightarrow c']$ and the probability to transition from stae c' to c is representated by $W[c' \\longrightarrow c]$. Suppose the probability to not add a spin to a cluster is $(1-P_{add})$.\n",
    "\n",
    "The cluster flip probability is given by the following expression:\n",
    "$$\\frac{W[c \\longrightarrow c']}{W[c' \\longrightarrow c]} = (1-P_{add})^{m' - m} = \\frac{e^{\\beta H_{c'}}}{e^{\\beta H_{c}}}$$\n",
    "Where $m'$ is the number of spins which are not in the cluster but have the same alignment in state c, and $m$ is the number of spoints which are not in the cluster but have the same alignment in state c'.\n",
    "\n",
    "By multiplying both sides of the equation by the ratio of the acceptance probability $\\frac{A[c \\longrightarrow c']}{A[c' \\longrightarrow c]}$, the markov chain expression can be written in terms of the energy difference between state c' and c.\n",
    "\n",
    "$$\\frac{W[c \\longrightarrow c']}{W[c' \\longrightarrow c]} \\frac{A[c \\longrightarrow c']}{A[c' \\longrightarrow c]} = (1-P_{add})^{m' - m} \\frac{A[c \\longrightarrow c']}{A[c' \\longrightarrow c]} = e^{-\\beta (H_{c'} - H_{c})}$$\n",
    "\n",
    "Since $(H_{c'} - H_{c}) = 2J(m - m')$, the acceptance ratio becomes the following:\n",
    "$$\\frac{A[c \\longrightarrow c']}{A[c' \\longrightarrow c]} = [(1-P_{add})e^{2\\beta J}]^{m-m'}$$\n",
    "\n",
    "In order for the detailed balance condition to hold, whereby $A[c \\longrightarrow c'] = A[c' \\longrightarrow c] = 1$, $P_{add} = 1- e^{2\\beta J}$.\n",
    "\n",
    "\n",
    "The pseudocode below outlines the Wolff Algorithm."
   ]
  },
  {
   "cell_type": "code",
   "execution_count": 61,
   "metadata": {},
   "outputs": [
    {
     "data": {
      "text/html": [
       "<img src=\"../report_pngs/wolff_flow.png\" width=\"600\" height=\"600\"/>"
      ],
      "text/plain": [
       "<IPython.core.display.Image object>"
      ]
     },
     "execution_count": 61,
     "metadata": {},
     "output_type": "execute_result"
    }
   ],
   "source": [
    "Image(url=\"../report_pngs/wolff_flow.png\", width=600, height=600) "
   ]
  },
  {
   "cell_type": "markdown",
   "metadata": {},
   "source": [
    "## 5. Locating Critical Temperature\n",
    "Since the energy is computed numerically, there will not be a discontinuity near the critical temperature. There will be a finite size scaling behaviour for the specific heat of the 2D ising model in a $L \\times L$ lattice. The critical temperature is shown as $\\beta_c$ in the figure below. The curve is computed from exact solutions.\n",
    "\n",
    "Heat capacity is calculated using the following formula:\n",
    "$$C_{V} = \\frac{Var(H(\\sigma))\\beta^2}{k_{B}}$$"
   ]
  },
  {
   "cell_type": "code",
   "execution_count": 60,
   "metadata": {},
   "outputs": [
    {
     "data": {
      "text/html": [
       "<img src=\"../report_pngs/finite_size.png\" width=\"400\" height=\"300\"/>"
      ],
      "text/plain": [
       "<IPython.core.display.Image object>"
      ]
     },
     "execution_count": 60,
     "metadata": {},
     "output_type": "execute_result"
    }
   ],
   "source": [
    "Image(url=\"../report_pngs/finite_size.png\", width=400, height=300) "
   ]
  },
  {
   "cell_type": "markdown",
   "metadata": {},
   "source": [
    "## 6. Simulation details\n",
    "To reduce computational resources, a simplified Ising model is adapted. Since our final interest is the critial temperature, external magnetic field is not of interest, therefore the hamiltonian of the 2D ising model system reduces to the following expression:\n",
    "$$ H(\\sigma) = -\\sum \\limits_{i,j} J_{ij} \\sigma_{i} \\sigma_{j}$$\n",
    "In order to run the programme, the following packages were used:"
   ]
  },
  {
   "cell_type": "code",
   "execution_count": 34,
   "metadata": {},
   "outputs": [],
   "source": [
    "import numpy as np\n",
    "import matplotlib.pyplot as plt\n",
    "import random\n",
    "import time\n",
    "from scipy.ndimage import convolve , generate_binary_structure"
   ]
  },
  {
   "cell_type": "markdown",
   "metadata": {},
   "source": [
    "### 6.1 Total Energy as a function of simulation steps"
   ]
  },
  {
   "cell_type": "markdown",
   "metadata": {},
   "source": [
    "To initialise the system, the input parameters are as follows:"
   ]
  },
  {
   "cell_type": "code",
   "execution_count": 35,
   "metadata": {},
   "outputs": [],
   "source": [
    "N = 32\n",
    "beta = 0.43\n",
    "J = 1\n",
    "p1 = 1 - np.exp(-2 * beta * J )"
   ]
  },
  {
   "cell_type": "markdown",
   "metadata": {},
   "source": [
    "Where `N` is the lattice size, `beta` is the inverse temperature , and `J` is the interaction coefficient. The system of interest is ferromagnetic, therefore, for simplification, `J = 1`. The flip probability `p` from the detailed balance condition is then calculated.\n",
    "\n",
    "To initialise the lattice, `N` is passed into the `fn_initial` function, which generates a NxN lattice and fills each site with either a spin up or down through a psuedo random number generator."
   ]
  },
  {
   "cell_type": "markdown",
   "metadata": {},
   "source": [
    "In `fn_initialise`, an array of size $N \\times N$ with elements of a random distribution of numbers ranging from 0 to 1 is generated and stored in `initial_random_num_arr`. `initial_arr` is a $N \\times N$ array of zeros. `initial_arr` is filled with $-1$ if the element is $>= 0.5$, and $1$ if the element is $< 0.5$. `initial_arr` is then returned."
   ]
  },
  {
   "cell_type": "code",
   "execution_count": 36,
   "metadata": {},
   "outputs": [],
   "source": [
    "def fn_initialise(N):\n",
    "    initial_random_num_arr = np.random.random((N,N))\n",
    "    initial_arr = np.zeros((N,N))\n",
    "    initial_arr[initial_random_num_arr >= 0.5] = -1\n",
    "    initial_arr[initial_random_num_arr < 0.5] = 1\n",
    "    return initial_arr"
   ]
  },
  {
   "cell_type": "markdown",
   "metadata": {},
   "source": [
    "To evaulate the total energy as a function of simulation steps, the total energy of the system is calculated through `fn_totalE`."
   ]
  },
  {
   "cell_type": "markdown",
   "metadata": {},
   "source": [
    "Since the lattice is filled with either -1 or 1, it can be represented as a binary structure, where each element is either `True` or `False`. Since the Hamiltonian is described by the multiplication of closest neighbours and is summed for all sites in the lattice, it can be represented by boolean operations. In `fn_totalE`, using Scipy package `generate_binary_structure`, a $3 \\times 3$ array is stored in `kernel`.\n",
    "\n",
    "```\n",
    "kernel = array([[False,  True, False],\n",
    "                    [ True,  True,  True],\n",
    "                    [False,  True, False]], dtype=bool)\n",
    "```"
   ]
  },
  {
   "cell_type": "code",
   "execution_count": 37,
   "metadata": {},
   "outputs": [],
   "source": [
    "def fn_totalE(arr):\n",
    "    kernel = generate_binary_structure(2,1) #rank = 2 (2D lattice structure) , connectivity = 1 (only 4 nearest neighbours, diagonal atoms are not neighbours)\n",
    "    array = -arr * convolve(arr , kernel , mode = 'constant',cval = 0)\n",
    "    return array.sum() * J"
   ]
  },
  {
   "cell_type": "markdown",
   "metadata": {},
   "source": [
    "After the lattice is initialised, the wolff algorithm is performed in the function `fn_wolff_alg`. The brief outline of the `fn_wolff_alg` is as follows:\n",
    "1. A random site is selected to be the seed site in `fn_select_seed`"
   ]
  },
  {
   "cell_type": "markdown",
   "metadata": {},
   "source": [
    "In `fn_select_seed`, two random values between 0 to N is drawn, and is placed into `rand_x` and `rand_y`. `initial_spin_value` is retrieved from lattice array `arr`, and it is flipped, and stored back at the lattice cell at (`rand_x`,`rand_y`)."
   ]
  },
  {
   "cell_type": "code",
   "execution_count": 38,
   "metadata": {},
   "outputs": [],
   "source": [
    "def fn_select_seed(arr):\n",
    "    rand_x = int(np.random.randint(0,N))\n",
    "    rand_y = int(np.random.randint(0,N))\n",
    "    initial_spin_value = arr[rand_y][rand_x]\n",
    "    flipped_spin_value = initial_spin_value * (-1)\n",
    "    arr[rand_y][rand_x] = flipped_spin_value\n",
    "    return initial_spin_value , arr , rand_x , rand_y"
   ]
  },
  {
   "cell_type": "markdown",
   "metadata": {},
   "source": [
    "2. A neighbour list of the seed site which contains the coordinates of the neighbours and the spin of the neighbours is retrieved through `fn_neighbour_list` and stored in `first_neighbour_arr`."
   ]
  },
  {
   "cell_type": "markdown",
   "metadata": {},
   "source": [
    "In `fn_neighbour_list`, the top, right, bottom and left neighbours of the input latttice site coordinates and its spin value is placed into `neighbour_arr`."
   ]
  },
  {
   "cell_type": "code",
   "execution_count": 39,
   "metadata": {},
   "outputs": [],
   "source": [
    "def fn_neighbour_list(arr, x, y):\n",
    "    neighbour_arr = []\n",
    "\n",
    "    if(y > 0): #above\n",
    "        neighbour_arr.append([x , y - 1 , arr[y - 1][x]])\n",
    "    if(x > 0): #right\n",
    "        neighbour_arr.append([x - 1 , y , arr[y][x - 1]])\n",
    "    if (y < N-1 ): #down\n",
    "        neighbour_arr.append([x , y + 1 , arr[y + 1][x]])\n",
    "    if (x < N-1 ): #left\n",
    "        neighbour_arr.append([x + 1 , y , arr[y][x + 1]])\n",
    "    return neighbour_arr"
   ]
  },
  {
   "cell_type": "markdown",
   "metadata": {},
   "source": [
    "\n",
    "3. Loop through the `first_neighbour_arr` and retrieve the neighbours of 1 of the first neighbours in every iteration of the `first_neighbour_arr` loop.\n",
    "4. In `fn_traverse`, check if the neighbour is of the same spin as the seed site in `fn_flip`.\n",
    "5. `fn_flip` evaulates the `flip_probability` and determines if it flips the spin. This is the same as adding the site into a cluster. When a spin is flipped,its neighbours are retrieved from `fn_neighbour_list`. If the spin is not flipped, it will go back to the previous layer of neighbours and evaulate their `flip_probability`. This search algorithm is called depth first search algorithm."
   ]
  },
  {
   "cell_type": "code",
   "execution_count": 59,
   "metadata": {},
   "outputs": [
    {
     "data": {
      "text/html": [
       "<img src=\"../report_pngs/Depth-first-tree.png\" width=\"500\" height=\"300\"/>"
      ],
      "text/plain": [
       "<IPython.core.display.Image object>"
      ]
     },
     "execution_count": 59,
     "metadata": {},
     "output_type": "execute_result"
    }
   ],
   "source": [
    "Image(url=\"../report_pngs/Depth-first-tree.png\", width=500, height=300) "
   ]
  },
  {
   "cell_type": "markdown",
   "metadata": {},
   "source": [
    "\n",
    " If the neighbour has the same spin, the flip probability is evaulated. If the `flip_probability < p`, then the neighbour spin is flipped. If `flip_probability > p`, or if the neighbour spin is not the same as the seed spin value, the search will continue with the next neighbour.\n"
   ]
  },
  {
   "cell_type": "code",
   "execution_count": 41,
   "metadata": {},
   "outputs": [],
   "source": [
    "def fn_flip(arr,x, y, initial_spin_val,p):\n",
    "    if (arr[y][x] == initial_spin_val):\n",
    "        flip_probability = random.random()\n",
    "        if(flip_probability < p):\n",
    "            arr[y][x] = initial_spin_val * (-1)\n",
    "            return True\n",
    "        else:\n",
    "            return False\n",
    "    else:\n",
    "        return False"
   ]
  },
  {
   "cell_type": "code",
   "execution_count": 42,
   "metadata": {},
   "outputs": [],
   "source": [
    "def fn_traverse(arr , initial_spin_value, x , y, neigh_arr,p):\n",
    "    if not fn_flip(arr,x,y , initial_spin_value,p):\n",
    "        return\n",
    "    \n",
    "    for n in neigh_arr:   \n",
    "        next_neigh_arr = fn_neighbour_list(arr , n[0],  n[1])\n",
    "        fn_traverse(arr , initial_spin_value , n[0] , n[1] , next_neigh_arr,p)"
   ]
  },
  {
   "cell_type": "markdown",
   "metadata": {},
   "source": [
    "\n",
    "6. After all of the neighbours have been flipped, the single step in the markov chain is complete.  `fn_wolff_alg` is looped for many iterations and in each iteration, the total energy or the iteration is calculated using `fn_totalE`.\n"
   ]
  },
  {
   "cell_type": "code",
   "execution_count": 43,
   "metadata": {},
   "outputs": [],
   "source": [
    "def fn_wolff_alg(arr,p):\n",
    "    initial_spin_value , arr , rand_x , rand_y = fn_select_seed(arr)\n",
    "\n",
    "    first_neighbour_arr = fn_neighbour_list(arr,rand_x , rand_y)\n",
    "\n",
    "    for n in first_neighbour_arr:\n",
    "        next_neigh_arr = fn_neighbour_list(arr , int(n[0]),  int(n[1]))\n",
    "        fn_traverse(arr , initial_spin_value , int(n[0]) , int(n[1]) , next_neigh_arr,p)\n",
    "\n",
    "    return arr"
   ]
  },
  {
   "cell_type": "markdown",
   "metadata": {},
   "source": [
    "This is the main body of the code. The `total_iteration_num` is the number of markov chain steps. The lattice is initialised by `fn_initialise`, and `initial_lattice_arr` stores the initial lattice configuration for comparison purposes. The `fn_wolff_alg` is looped and the total energy is calculated by `fn_totalE` in each iteration."
   ]
  },
  {
   "cell_type": "code",
   "execution_count": 44,
   "metadata": {},
   "outputs": [],
   "source": [
    "total_iteration_num1 = 1500\n",
    "iteration_arr = []\n",
    "energy_arr1 = []\n",
    "lattice_arr1 = fn_initialise(N)\n",
    "\n",
    "lattice_arr_initial = lattice_arr1.copy()\n",
    "for i in range(total_iteration_num1):\n",
    "    lattice_arr1 = fn_wolff_alg(lattice_arr1,p1)\n",
    "    iteration_arr.append(i)\n",
    "    energy_arr1.append(fn_totalE(lattice_arr1)) "
   ]
  },
  {
   "cell_type": "markdown",
   "metadata": {},
   "source": [
    "7. The iteration number and the total energy of the iteration is stored into `iteration_arr` and `energy_arr`, and is plotted."
   ]
  },
  {
   "cell_type": "code",
   "execution_count": 45,
   "metadata": {},
   "outputs": [
    {
     "data": {
      "text/plain": [
       "[<matplotlib.lines.Line2D at 0x1cba7490680>]"
      ]
     },
     "execution_count": 45,
     "metadata": {},
     "output_type": "execute_result"
    },
    {
     "data": {
      "image/png": "[encoded data removed]",
      "text/plain": [
       "<Figure size 600x400 with 1 Axes>"
      ]
     },
     "metadata": {},
     "output_type": "display_data"
    }
   ],
   "source": [
    "plt.figure(figsize=(6, 4))\n",
    "plt.plot(iteration_arr, energy_arr1)"
   ]
  },
  {
   "cell_type": "code",
   "execution_count": 46,
   "metadata": {},
   "outputs": [
    {
     "data": {
      "text/plain": [
       "<matplotlib.image.AxesImage at 0x1cba43549e0>"
      ]
     },
     "execution_count": 46,
     "metadata": {},
     "output_type": "execute_result"
    },
    {
     "data": {
      "image/png": "[encoded data removed]",
      "text/plain": [
       "<Figure size 640x480 with 1 Axes>"
      ]
     },
     "metadata": {},
     "output_type": "display_data"
    }
   ],
   "source": [
    "plt.imshow(lattice_arr_initial)"
   ]
  },
  {
   "cell_type": "code",
   "execution_count": 47,
   "metadata": {},
   "outputs": [
    {
     "data": {
      "text/plain": [
       "<matplotlib.image.AxesImage at 0x1cba7606d50>"
      ]
     },
     "execution_count": 47,
     "metadata": {},
     "output_type": "execute_result"
    },
    {
     "data": {
      "image/png": "[encoded data removed]",
      "text/plain": [
       "<Figure size 640x480 with 1 Axes>"
      ]
     },
     "metadata": {},
     "output_type": "display_data"
    }
   ],
   "source": [
    "plt.imshow(lattice_arr1)"
   ]
  },
  {
   "cell_type": "markdown",
   "metadata": {},
   "source": [
    "### 6.2 Finding Transition Temperature"
   ]
  },
  {
   "cell_type": "markdown",
   "metadata": {},
   "source": [
    "To find the critical temperature, the heat capacity `heat_cap` as a function of inverse temperature `beta` should be plotted. The simulation in 6.1 finds the total energy of a particular inverse temperature. Therefore, to find `heat_cap` over a range of `beta`, the main body of the code should be modified.\n",
    "\n",
    "To implement the heat capacity formula, $C_{V} = \\frac{Var(H(\\sigma))\\beta^2}{k_{B}}$, $Var(H(\\sigma))$ is obtained by the total energy ranging from the 1200th iteration step to the 3000th iteration step. This range is choosen because the total energy will reach a near stationary distribution after many simulation steps. Moreover, using a greater number of $(H(\\sigma))$ values is more representative of the distribution of $H(\\sigma)$."
   ]
  },
  {
   "cell_type": "code",
   "execution_count": 48,
   "metadata": {},
   "outputs": [],
   "source": [
    "beta_arr = [0.30,0.35,0.40,0.45,0.50,0.55,0.60]\n",
    "heat_cap = []\n",
    "total_iteration_num2 = 3000\n",
    "\n",
    "for i in range(0,7):\n",
    "    this_beta = beta_arr[i]\n",
    "    p2 = 1 - np.exp(-2 * this_beta * J )\n",
    "    energy_arr2 = []\n",
    "\n",
    "    lattice_arr2 = fn_initialise(N)\n",
    "\n",
    "    for j in range(total_iteration_num2):\n",
    "        fn_wolff_alg(lattice_arr2,p2)\n",
    "        if(j >= 1200):\n",
    "            energy_arr2.append(fn_totalE(lattice_arr2)) \n",
    "    \n",
    "    energy_std = np.std(energy_arr2)\n",
    "    \n",
    "    this_heat_cap = (energy_std * this_beta) * (energy_std * this_beta)/((1.38E-23))\n",
    "    \n",
    "    heat_cap.append(this_heat_cap) # calculate the energy std from the 1000th iteration and the 5000th iteration and multiply it with current beta\n"
   ]
  },
  {
   "cell_type": "code",
   "execution_count": 49,
   "metadata": {},
   "outputs": [
    {
     "data": {
      "text/plain": [
       "[<matplotlib.lines.Line2D at 0x1cba61f2750>]"
      ]
     },
     "execution_count": 49,
     "metadata": {},
     "output_type": "execute_result"
    },
    {
     "data": {
      "image/png": "[encoded data removed]",
      "text/plain": [
       "<Figure size 600x400 with 1 Axes>"
      ]
     },
     "metadata": {},
     "output_type": "display_data"
    }
   ],
   "source": [
    "plt.figure(figsize=(6, 4))\n",
    "plt.plot(beta_arr , heat_cap)"
   ]
  },
  {
   "cell_type": "markdown",
   "metadata": {},
   "source": [
    "## 7. Result and Analysis"
   ]
  },
  {
   "cell_type": "markdown",
   "metadata": {},
   "source": [
    "From the figures showing total energy vs simulation step for different values of `beta`, it can be seen that the total energy of the system reaches to a stationary distribution after approximately 25 to 200 iterations. The iterations needed to reach to stationary total energy is dependent on `beta`. As `beta` value is increased, the number of iterations needed to reach stationary total energy decreases. One possible explaination for this is because `p` is larger when `beta` is larger, therefore, sites of the same value is more likely to join a cluster, so each iteration makes a bigger cluster."
   ]
  },
  {
   "cell_type": "code",
   "execution_count": 58,
   "metadata": {},
   "outputs": [
    {
     "data": {
      "text/html": [
       "<img src=\"../total_E_pngs/big_beta1.png\" width=\"800\" height=\"600\"/>"
      ],
      "text/plain": [
       "<IPython.core.display.Image object>"
      ]
     },
     "execution_count": 58,
     "metadata": {},
     "output_type": "execute_result"
    }
   ],
   "source": [
    "Image(url=\"../total_E_pngs/big_beta1.png\", width=800, height=600) "
   ]
  },
  {
   "cell_type": "code",
   "execution_count": 57,
   "metadata": {},
   "outputs": [
    {
     "data": {
      "text/html": [
       "<img src=\"../total_E_pngs/big_beta2.png\" width=\"800\" height=\"600\"/>"
      ],
      "text/plain": [
       "<IPython.core.display.Image object>"
      ]
     },
     "execution_count": 57,
     "metadata": {},
     "output_type": "execute_result"
    }
   ],
   "source": [
    "Image(url=\"../total_E_pngs/big_beta2.png\", width=800, height=600) "
   ]
  },
  {
   "cell_type": "code",
   "execution_count": 56,
   "metadata": {},
   "outputs": [
    {
     "data": {
      "text/html": [
       "<img src=\"../total_E_pngs/small_beta1.png\" width=\"800\" height=\"600\"/>"
      ],
      "text/plain": [
       "<IPython.core.display.Image object>"
      ]
     },
     "execution_count": 56,
     "metadata": {},
     "output_type": "execute_result"
    }
   ],
   "source": [
    "Image(url=\"../total_E_pngs/small_beta1.png\", width=800, height=600) "
   ]
  },
  {
   "cell_type": "code",
   "execution_count": 55,
   "metadata": {},
   "outputs": [
    {
     "data": {
      "text/html": [
       "<img src=\"../total_E_pngs/small_beta2.png\" width=\"800\" height=\"600\"/>"
      ],
      "text/plain": [
       "<IPython.core.display.Image object>"
      ]
     },
     "execution_count": 55,
     "metadata": {},
     "output_type": "execute_result"
    }
   ],
   "source": [
    "Image(url=\"../total_E_pngs/small_beta2.png\", width=800, height=600) "
   ]
  },
  {
   "cell_type": "markdown",
   "metadata": {},
   "source": [
    "The number of steps needded to reach convergence differs depending on the algorithm which is used to implement the ising model. As seen in the figures below, the metropolis algorithm requires a significantly higher amount of simulation steps compared to wolff algorithm, especially near the critical inverse temperature `beta` due to the spins are displaying long range correlations."
   ]
  },
  {
   "cell_type": "code",
   "execution_count": 14,
   "metadata": {},
   "outputs": [
    {
     "data": {
      "text/html": [
       "<img src=\"../total_E_pngs/metro_convergence.png\" width=\"450\" height=\"300\"/>"
      ],
      "text/plain": [
       "<IPython.core.display.Image object>"
      ]
     },
     "execution_count": 14,
     "metadata": {},
     "output_type": "execute_result"
    }
   ],
   "source": [
    "Image(url=\"../total_E_pngs/metro_convergence.png\", width=450, height=300) "
   ]
  },
  {
   "cell_type": "code",
   "execution_count": 17,
   "metadata": {},
   "outputs": [
    {
     "data": {
      "text/html": [
       "<img src=\"../total_E_pngs/wolff_convergence.png\" width=\"450\" height=\"300\"/>"
      ],
      "text/plain": [
       "<IPython.core.display.Image object>"
      ]
     },
     "execution_count": 17,
     "metadata": {},
     "output_type": "execute_result"
    }
   ],
   "source": [
    "Image(url=\"../total_E_pngs/wolff_convergence.png\", width=450, height=300) "
   ]
  },
  {
   "cell_type": "markdown",
   "metadata": {},
   "source": [
    "In 6.2, the simulation ran for several different values of `beta`, and is plotted in the figure below. The maximum is located at `beta` = 0.45, which agrees with the figure from section 5. "
   ]
  },
  {
   "cell_type": "code",
   "execution_count": 54,
   "metadata": {},
   "outputs": [
    {
     "data": {
      "text/plain": [
       "[<matplotlib.lines.Line2D at 0x1cba771af00>]"
      ]
     },
     "execution_count": 54,
     "metadata": {},
     "output_type": "execute_result"
    },
    {
     "data": {
      "image/png": "[encoded data removed]",
      "text/plain": [
       "<Figure size 600x400 with 1 Axes>"
      ]
     },
     "metadata": {},
     "output_type": "display_data"
    }
   ],
   "source": [
    "plt.figure(figsize=(6, 4))\n",
    "plt.plot(beta_arr , heat_cap)"
   ]
  },
  {
   "cell_type": "markdown",
   "metadata": {},
   "source": [
    "## 7. References\n",
    "- https://courses.physics.illinois.edu/phys498cmp/sp2022/Ising/IsingModel.html\n",
    "- https://mattbierbaum.github.io/ising.js/\n",
    "- https://csml.northwestern.edu/resources/Reprints/lnp_color.pdf\n",
    "- https://hef.ru.nl/~tbudd/mct/lectures/cluster_algorithms.html\n",
    "- http://latt.if.usp.br/technical-pages/twawesab/Text.html/node1.html\n",
    "- https://arxiv.org/pdf/1404.0209\n"
   ]
  }
 ],
 "metadata": {
  "kernelspec": {
   "display_name": "base",
   "language": "python",
   "name": "python3"
  },
  "language_info": {
   "codemirror_mode": {
    "name": "ipython",
    "version": 3
   },
   "file_extension": ".py",
   "mimetype": "text/x-python",
   "name": "python",
   "nbconvert_exporter": "python",
   "pygments_lexer": "ipython3",
   "version": "3.12.4"
  }
 },
 "nbformat": 4,
 "nbformat_minor": 2
}
