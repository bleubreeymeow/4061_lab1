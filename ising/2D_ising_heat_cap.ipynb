{
 "cells": [
  {
   "cell_type": "markdown",
   "metadata": {},
   "source": [
    "## Find critical temperature using heat capacity and inverse temperature graph"
   ]
  },
  {
   "cell_type": "code",
   "execution_count": 467,
   "metadata": {},
   "outputs": [],
   "source": [
    "import numpy as np\n",
    "import matplotlib.pyplot as plt\n",
    "import random\n",
    "import time\n",
    "from scipy.ndimage import convolve , generate_binary_structure"
   ]
  },
  {
   "cell_type": "code",
   "execution_count": 468,
   "metadata": {},
   "outputs": [],
   "source": [
    "N = 32\n",
    "J = 1"
   ]
  },
  {
   "cell_type": "code",
   "execution_count": null,
   "metadata": {},
   "outputs": [],
   "source": [
    "def fn_totalE(arr):\n",
    "    kernel = generate_binary_structure(2,1) #rank = 2 (2D lattice structure) , connectivity = 1 (only 4 nearest neighbours, diagonal atoms are not neighbours)\n",
    "\n",
    "    array = -arr * convolve(arr , kernel , mode = 'constant',cval = 0)\n",
    "    return array.sum() * J"
   ]
  },
  {
   "cell_type": "code",
   "execution_count": 470,
   "metadata": {},
   "outputs": [],
   "source": [
    "def fn_flip(arr,x, y, initial_spin_val,p):\n",
    "    if (arr[y][x] == initial_spin_val):\n",
    "        flip_probability = random.random()\n",
    "        if(flip_probability < p):\n",
    "            arr[y][x] = initial_spin_val * (-1)\n",
    "            return True\n",
    "        else:\n",
    "            return False\n",
    "    else:\n",
    "        return False"
   ]
  },
  {
   "cell_type": "code",
   "execution_count": 471,
   "metadata": {},
   "outputs": [],
   "source": [
    "def fn_neighbour_list(arr , x, y):\n",
    "    neighbour_arr = []\n",
    "\n",
    "    if(y > 0): #above\n",
    "        neighbour_arr.append([x , y - 1 , arr[y - 1][x]])\n",
    "    if(x > 0): #right\n",
    "        neighbour_arr.append([x - 1 , y , arr[y][x - 1]])\n",
    "    if (y < N-1 ): #down\n",
    "        neighbour_arr.append([x , y + 1 , arr[y + 1][x]])\n",
    "    if (x < N-1 ): #left\n",
    "        neighbour_arr.append([x + 1 , y , arr[y][x + 1]])\n",
    "    return neighbour_arr"
   ]
  },
  {
   "cell_type": "code",
   "execution_count": 472,
   "metadata": {},
   "outputs": [],
   "source": [
    "def fn_traverse(arr , initial_spin_value, x , y, neigh_arr,p):\n",
    "    \n",
    "    if not fn_flip(arr,x,y , initial_spin_value,p):\n",
    "        return\n",
    "    \n",
    "    for n in neigh_arr:\n",
    "        next_neigh_arr = fn_neighbour_list(arr , n[0],  n[1])\n",
    "        fn_traverse(arr , initial_spin_value , n[0] , n[1] , next_neigh_arr,p)"
   ]
  },
  {
   "cell_type": "code",
   "execution_count": 473,
   "metadata": {},
   "outputs": [],
   "source": [
    "def fn_wolff_alg(arr,p):\n",
    "    #step1: select a random spin in the lattice\n",
    "    rand_x = int(np.random.randint(0,N))\n",
    "    rand_y = int(np.random.randint(0,N))\n",
    "    initial_spin_value = arr[rand_y][rand_x]\n",
    "    flipped_spin_value = initial_spin_value * (-1)\n",
    "    arr[rand_y][rand_x] = flipped_spin_value\n",
    "\n",
    "    first_neighbour_arr = fn_neighbour_list(arr,rand_x , rand_y)\n",
    "\n",
    "    for n in first_neighbour_arr:\n",
    "        fn_flip(arr,int(n[0]) , int(n[1]),initial_spin_value,p)\n",
    "        next_neigh_arr = fn_neighbour_list(arr , int(n[0]),  int(n[1]))\n",
    "        fn_traverse(arr , initial_spin_value , int(n[0]) , int(n[1]) , next_neigh_arr,p)\n",
    "\n",
    "    return arr"
   ]
  },
  {
   "cell_type": "code",
   "execution_count": 474,
   "metadata": {},
   "outputs": [],
   "source": [
    "def fn_initialise(N):\n",
    "    initial_random_num_arr = np.random.random((N,N))\n",
    "    initial_arr = np.zeros((N,N))\n",
    "    initial_arr[initial_random_num_arr >= 0.75] = -1\n",
    "    initial_arr[initial_random_num_arr < 0.75] = 1\n",
    "    return initial_arr"
   ]
  },
  {
   "cell_type": "code",
   "execution_count": null,
   "metadata": {},
   "outputs": [
    {
     "data": {
      "text/plain": [
       "[7.297708676863784e+25,\n",
       " 1.2102303168814484e+26,\n",
       " 2.660186541410736e+26,\n",
       " 6.83496540655787e+26,\n",
       " 3.611126580553214e+26,\n",
       " 2.35023026791722e+26,\n",
       " 2.0142710923762496e+26,\n",
       " 1.819456101898912e+26]"
      ]
     },
     "execution_count": 475,
     "metadata": {},
     "output_type": "execute_result"
    }
   ],
   "source": [
    "#beta = [0.30,0.35,0.40,0.45,0.5,0.55,0.6]\n",
    "beta = [0.30,0.35,0.40,0.45,0.50,0.55,0.60]\n",
    "heat_cap = []\n",
    "total_iteration_num = 5000\n",
    "\n",
    "for i in range(0,7):\n",
    "    this_beta = beta[i]\n",
    "    p = 1 - np.exp(-2 * this_beta * J )\n",
    "    energy_arr = []\n",
    "\n",
    "    lattice_arr = fn_initialise(N)\n",
    "\n",
    "    for j in range(total_iteration_num):\n",
    "        fn_wolff_alg(lattice_arr,p)\n",
    "        if(j >= 1500):\n",
    "            energy_arr.append(fn_totalE(lattice_arr)) \n",
    "    \n",
    "    energy_std = np.std(energy_arr)\n",
    "    \n",
    "    this_heat_cap = (energy_std * this_beta) * (energy_std * this_beta)/((1.38E-23))\n",
    "    \n",
    "    heat_cap.append(this_heat_cap) # calculate the energy std from the 1000th iteration and the 5000th iteration and multiply it with current beta\n"
   ]
  },
  {
   "cell_type": "code",
   "execution_count": 476,
   "metadata": {},
   "outputs": [
    {
     "data": {
      "text/plain": [
       "[<matplotlib.lines.Line2D at 0x20ad4eb4ef0>]"
      ]
     },
     "execution_count": 476,
     "metadata": {},
     "output_type": "execute_result"
    },
    {
     "data": {
      "image/png": "[encoded data removed]",
      "text/plain": [
       "<Figure size 1000x600 with 1 Axes>"
      ]
     },
     "metadata": {},
     "output_type": "display_data"
    }
   ],
   "source": [
    "plt. figure(figsize=(10, 6))\n",
    "plt.plot(beta , heat_cap )"
   ]
  }
 ],
 "metadata": {
  "kernelspec": {
   "display_name": "base",
   "language": "python",
   "name": "python3"
  },
  "language_info": {
   "codemirror_mode": {
    "name": "ipython",
    "version": 3
   },
   "file_extension": ".py",
   "mimetype": "text/x-python",
   "name": "python",
   "nbconvert_exporter": "python",
   "pygments_lexer": "ipython3",
   "version": "3.12.4"
  }
 },
 "nbformat": 4,
 "nbformat_minor": 2
}
